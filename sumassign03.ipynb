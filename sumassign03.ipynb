{
 "cells": [
  {
   "cell_type": "markdown",
   "id": "1ee1853b",
   "metadata": {},
   "source": [
    "# WRITE A PYTHON FUNCTION TO SUM ALL THE NUMBERS IN A LIST"
   ]
  },
  {
   "cell_type": "code",
   "execution_count": 1,
   "id": "602f95b3",
   "metadata": {},
   "outputs": [
    {
     "name": "stdout",
     "output_type": "stream",
     "text": [
      "*****************Starting of the program for sum of all numbers*****************\n",
      "20\n",
      "************************************THE END*************************************\n"
     ]
    }
   ],
   "source": [
    "print('Starting of the program for sum of all numbers'.center(80,'*'))\n",
    "def sum(*args):\n",
    "    sum1= 0\n",
    "    for i in args:\n",
    "        sum1 = i + sum1\n",
    "    return sum1\n",
    "print(sum(8,2,3,0,7))\n",
    "print('THE END'.center(80,'*'))"
   ]
  },
  {
   "cell_type": "code",
   "execution_count": null,
   "id": "cc1cd766",
   "metadata": {},
   "outputs": [],
   "source": []
  }
 ],
 "metadata": {
  "kernelspec": {
   "display_name": "Python 3 (ipykernel)",
   "language": "python",
   "name": "python3"
  },
  "language_info": {
   "codemirror_mode": {
    "name": "ipython",
    "version": 3
   },
   "file_extension": ".py",
   "mimetype": "text/x-python",
   "name": "python",
   "nbconvert_exporter": "python",
   "pygments_lexer": "ipython3",
   "version": "3.9.7"
  }
 },
 "nbformat": 4,
 "nbformat_minor": 5
}
